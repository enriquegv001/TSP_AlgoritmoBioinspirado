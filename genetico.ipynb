{
  "cells": [
    {
      "cell_type": "code",
      "execution_count": 14,
      "metadata": {
        "id": "NgCnO58Ipppj"
      },
      "outputs": [],
      "source": [
        "import time\n",
        "\n",
        "start = time.time()"
      ]
    },
    {
      "cell_type": "code",
      "execution_count": 15,
      "metadata": {
        "id": "71ZsFv_54r2n"
      },
      "outputs": [],
      "source": [
        "import random\n",
        "import numpy\n",
        "import pandas as pd"
      ]
    },
    {
      "cell_type": "code",
      "execution_count": 16,
      "metadata": {
        "id": "6UCnFNPe4xVx"
      },
      "outputs": [],
      "source": [
        "# Implements the random initialization of individuals using the binary \n",
        "# representation.\n",
        "def createIndividual():\n",
        "  r1=[1]\n",
        "\n",
        "  cd=[2,3,4,5,6,7,8,9,10,11,12,13,14,15,16]\n",
        "  ruta1=random.sample(cd,15)\n",
        "  ruta=r1+ruta1\n",
        "  return ruta"
      ]
    },
    {
      "cell_type": "code",
      "execution_count": 17,
      "metadata": {
        "id": "t4AHXTRZ40hU"
      },
      "outputs": [],
      "source": [
        "# Implements the one point crossover on individuals using the binary \n",
        "# representation.\n",
        "def combine(parentA, parentB, cRate):\n",
        "  #x=0\n",
        "  #while x==0:\n",
        "  if (random.random() <= cRate):\n",
        "      cPoint = numpy.random.randint(1, len(parentA)) \n",
        "\n",
        "      offspringA = numpy.append(parentA[0:cPoint], parentB[cPoint:])\n",
        "      offspringB = numpy.append(parentB[0:cPoint], parentA[cPoint:])\n",
        "  else:\n",
        "      offspringA = numpy.copy(parentA)\n",
        "      offspringB = numpy.copy(parentB)\n",
        "\n",
        "    #validar que no haya números repetidos\n",
        "  if len(offspringA)==len(set(offspringA)):\n",
        "      springA=offspringA\n",
        "      #x=1\n",
        "  else:\n",
        "      springA=parentA\n",
        "\n",
        "  if len(offspringB)==len(set(offspringB)):\n",
        "      springB=offspringB\n",
        "  else:\n",
        "      springB=parentB\n",
        "\n",
        "  return springA, springB"
      ]
    },
    {
      "cell_type": "code",
      "execution_count": 18,
      "metadata": {
        "id": "Wz-VUsbe43bb"
      },
      "outputs": [],
      "source": [
        "# Implements the flip mutation on individuals using the binary representation.\n",
        "def mutate(individual, mRate):\n",
        "  #for i in range(len(individual)):\n",
        "  if (random.random() <= mRate): \n",
        "       cPoint = numpy.random.randint(1, (len(individual)-1))  \n",
        "       #print(cPoint)  \n",
        "       x1= individual[cPoint]\n",
        "       #print(x1)\n",
        "       cPoint2 =  numpy.random.randint(1, (len(individual)-1))\n",
        "       #print(cPoint2) \n",
        "       x2=individual[cPoint2]\n",
        "       #print(x2)\n",
        "       individual[cPoint]=x2\n",
        "       individual[cPoint2]=x1\n",
        "  return individual\n"
      ]
    },
    {
      "cell_type": "code",
      "execution_count": 19,
      "metadata": {
        "id": "RKxcfAcJ489F"
      },
      "outputs": [],
      "source": [
        "# Implements the fitness function of individuals using the binary representation \n",
        "# and solving the max-one problem.\n",
        "def evaluate(individual):\n",
        "  x2=individual[1]-1\n",
        "  x3=individual[2]-1\n",
        "  x4=individual[3]-1\n",
        "  x5=individual[4]-1\n",
        "  x6=individual[5]-1\n",
        "  x7=individual[6]-1\n",
        "  x8=individual[7]-1\n",
        "  x9=individual[8]-1\n",
        "  x10=individual[9]-1\n",
        "  x11=individual[10]-1\n",
        "  x12=individual[11]-1\n",
        "  x13=individual[12]-1\n",
        "  x14=individual[13]-1\n",
        "  x15=individual[14]-1\n",
        "  x16=individual[15]-1\n",
        "\n",
        "  \n",
        "  c1 = numpy.array([[ 999,  4,  9, 10, 11,  8, 32,  5, 14,  5, 10, 15, 10,  5,  9, 19],\n",
        "                    [10,  999,  3,  6, 10, 15, 38,  8, 10,  5, 10, 22, 16,  8,  8, 19],\n",
        "                    [10,  3,  999,  4,  8, 12, 36,  5,  7,  8, 13, 20, 14,  6,  6, 16],\n",
        "                    [10,  6,  4,  999,  6, 13, 37,  6,  5, 10, 16, 20, 15,  7,  4, 15],\n",
        "                    [11,  9,  7,  5,  999, 13, 37,  7,  6, 13, 19, 21, 15,  7,  1, 12],\n",
        "                    [ 6, 13, 11, 12, 12,  999, 27,  7, 15, 11, 16, 11,  6,  5, 11, 21],\n",
        "                    [29, 35, 33, 34, 35, 25,  999, 29, 38, 33, 39, 15, 20, 28, 33, 33],\n",
        "                    [ 6,  7,  5,  6,  7,  8, 32,  999,  9, 11, 17, 16, 10,  1,  5, 15],\n",
        "                    [14,  9,  8,  4,  7, 17, 40, 10,  999, 14, 19, 24, 19, 10,  5, 16],\n",
        "                    [ 5,  6,  8, 10, 14,  9, 36, 12, 14,  999,  6, 20, 15,  9, 12, 23],\n",
        "                    [11, 12, 15, 17, 21, 15, 42, 15, 20,  7,  999, 26, 20, 15, 19, 29],\n",
        "                    [13, 20, 18, 19, 20, 10, 19, 14, 23, 18, 23,  999,  5, 13, 18, 21],\n",
        "                    [ 8, 15, 13, 14, 15,  5, 23,  9, 18, 13, 19,  7,  999,  8, 13, 20],\n",
        "                    [ 6,  8,  6,  7,  8,  8, 32,  1, 11,  9, 15, 16, 10,  999,  6, 16],\n",
        "                    [10,  8,  7,  4,  2, 13, 36,  6,  5, 13, 18, 20, 15,  6,  999, 12],\n",
        "                    [20, 18, 17, 14, 10, 20, 41, 16, 16, 23, 28, 21, 19, 16, 12,  999]])\n",
        "      \n",
        "  a1=c1[0,x2]\n",
        "  a2=c1[x2,x3]\n",
        "  a3=c1[x3,x4]\n",
        "  a4=c1[x4,x5]\n",
        "  a5=c1[x5,x6]\n",
        "  a6=c1[x6,x7]\n",
        "  a7=c1[x7,x8]\n",
        "  a8=c1[x8,x9]\n",
        "  a9=c1[x9,x10]\n",
        "  a10=c1[x10,x11]\n",
        "  a11=c1[x11,x12]\n",
        "  a12=c1[x12,x13]\n",
        "  a13=c1[x13,x14]\n",
        "  a14=c1[x14,x15]\n",
        "  a15=c1[x15,x16]\n",
        "  a16=c1[x16,0] #regresa al lugar de origen\n",
        "\n",
        "  f = a1+a2+a3+a4+a5+a6+a7+a8+a9+a10+a11+a12+a13+a14+a15+a16\n",
        "  return f"
      ]
    },
    {
      "cell_type": "code",
      "execution_count": 20,
      "metadata": {
        "id": "fXfwxq1p9XNH"
      },
      "outputs": [],
      "source": [
        "# Implements the tournament selection.\n",
        "def select(population, evaluation, tournamentSize):\n",
        "  winner = numpy.random.randint(0, len(population))\n",
        "  for i in range(tournamentSize - 1):\n",
        "    rival = numpy.random.randint(0, len(population))\n",
        "    if (evaluation[rival] < evaluation[winner]):\n",
        "      winner = rival\n",
        "  return population[winner]"
      ]
    },
    {
      "cell_type": "code",
      "execution_count": 21,
      "metadata": {
        "id": "JTTnZEOE4_iB"
      },
      "outputs": [],
      "source": [
        "# Implements a genetic algorithm for solving the max-one problem with individuals \n",
        "# using the binary representation.\n",
        "def geneticAlgorithm(populationSize, cRate, mRate, generations):\n",
        "  # Creates the initial population (it also evaluates it)\n",
        "  population = [None] * populationSize\n",
        "  evaluation = [None] * populationSize  \n",
        "  for i in range(populationSize):\n",
        "    individual = createIndividual()\n",
        "    population[i] = individual\n",
        "    evaluation[i] = evaluate(individual)\n",
        "  # Keeps a record of the best individual found so far\n",
        "  index = 0;\n",
        "  for i in range(1, populationSize):\n",
        "    if (evaluation[i] < evaluation[index]):\n",
        "      index = i;\n",
        "  bestIndividual = population[index]\n",
        "  bestEvaluation = evaluation[index]\n",
        "  # Runs the evolutionary process    \n",
        "  for i in range(generations):\n",
        "    k = 0\n",
        "    newPopulation = [None] * populationSize    \n",
        "    for j in range(populationSize // 2):\n",
        "      parentA = select(population, evaluation, 3)\n",
        "      parentB = select(population, evaluation, 3)\n",
        "      newPopulation[k], newPopulation[k + 1] = combine(parentA, parentB, cRate)    \n",
        "      k = k + 2    \n",
        "    population = newPopulation\n",
        "    for j in range(populationSize):\n",
        "      population[j] = mutate(population[j], mRate)\n",
        "      evaluation[j] = evaluate(population[j])\n",
        "      # Keeps a record of the best individual found so far\n",
        "      if (evaluation[j] < bestEvaluation):\n",
        "        bestEvaluation = evaluation[j]\n",
        "        bestIndividual = population[j]\n",
        "  return bestIndividual, bestEvaluation"
      ]
    },
    {
      "cell_type": "code",
      "execution_count": 22,
      "metadata": {
        "colab": {
          "base_uri": "https://localhost:8080/"
        },
        "id": "--6DUhn_52qc",
        "outputId": "2ade9115-9ffa-4606-8b17-7fc3812d963b"
      },
      "outputs": [
        {
          "name": "stdout",
          "output_type": "stream",
          "text": [
            "[ 1  4 14  8  3  2 10 11  6 13 12  7 16  5 15  9]\n",
            "147\n"
          ]
        }
      ],
      "source": [
        "# solves the problem using the genetic algorithm\n",
        "solution, evaluation = geneticAlgorithm(50, 0.9, 0.01, 200)\n",
        "#origen=[1]\n",
        "print(solution)\n",
        "print(evaluation)\n",
        "#siempre regresa al punto 1"
      ]
    },
    {
      "cell_type": "code",
      "execution_count": 23,
      "metadata": {
        "colab": {
          "base_uri": "https://localhost:8080/"
        },
        "id": "HSkKIe5Ppwxm",
        "outputId": "4ca16d0e-d07c-477e-b3fd-4e49dde0a002"
      },
      "outputs": [
        {
          "name": "stdout",
          "output_type": "stream",
          "text": [
            "The time used to execute this is given below\n",
            "0.8300414085388184\n"
          ]
        }
      ],
      "source": [
        "print(\"The time used to execute this is given below\")\n",
        "\n",
        "end = time.time()\n",
        "\n",
        "print(end - start)"
      ]
    }
  ],
  "metadata": {
    "colab": {
      "provenance": []
    },
    "kernelspec": {
      "display_name": "Python 3.10.5 64-bit",
      "language": "python",
      "name": "python3"
    },
    "language_info": {
      "codemirror_mode": {
        "name": "ipython",
        "version": 3
      },
      "file_extension": ".py",
      "mimetype": "text/x-python",
      "name": "python",
      "nbconvert_exporter": "python",
      "pygments_lexer": "ipython3",
      "version": "3.10.5"
    },
    "vscode": {
      "interpreter": {
        "hash": "03b377da14f3aa062dfae6f1f9166787a380b8610a7efcefe06d27a39d527dcb"
      }
    }
  },
  "nbformat": 4,
  "nbformat_minor": 0
}

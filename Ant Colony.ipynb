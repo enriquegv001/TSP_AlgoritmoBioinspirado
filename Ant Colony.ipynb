{
  "cells": [
    {
      "cell_type": "code",
      "execution_count": 93,
      "metadata": {
        "id": "eLJttu_xzjID"
      },
      "outputs": [],
      "source": [
        "import numpy as np\n",
        "import random as rd\n"
      ]
    },
    {
      "cell_type": "code",
      "execution_count": 94,
      "metadata": {
        "id": "Ci0MuFYuuYts"
      },
      "outputs": [],
      "source": [
        "import pandas as pd"
      ]
    },
    {
      "cell_type": "code",
      "execution_count": 95,
      "metadata": {},
      "outputs": [],
      "source": [
        "import time\n",
        "\n",
        "start = time.time()"
      ]
    },
    {
      "cell_type": "code",
      "execution_count": 96,
      "metadata": {
        "colab": {
          "base_uri": "https://localhost:8080/"
        },
        "id": "fOGgUTfHua_i",
        "outputId": "c3d55da8-a6a2-4ac4-d8b2-4fd256622567"
      },
      "outputs": [],
      "source": [
        "path = \"reto_distance.csv\"\n",
        "df = pd.read_csv(path)\n"
      ]
    },
    {
      "cell_type": "code",
      "execution_count": 97,
      "metadata": {
        "id": "RiX3TQfJv-_V"
      },
      "outputs": [],
      "source": [
        "distmat = np.array(df.iloc[:16,1:17])"
      ]
    },
    {
      "cell_type": "code",
      "execution_count": 98,
      "metadata": {
        "colab": {
          "base_uri": "https://localhost:8080/"
        },
        "id": "HBE1kjE-wOWT",
        "outputId": "e463cf8d-91fc-4ea1-c3d2-a35346521748"
      },
      "outputs": [
        {
          "data": {
            "text/plain": [
              "array([[ 0.,  4.,  9., 10., 11.,  8., 32.,  5., 14.,  5., 10., 15., 10.,\n",
              "         5.,  9., 19.],\n",
              "       [10.,  0.,  3.,  6., 10., 15., 38.,  8., 10.,  5., 10., 22., 16.,\n",
              "         8.,  8., 19.],\n",
              "       [10.,  3.,  0.,  4.,  8., 12., 36.,  5.,  7.,  8., 13., 20., 14.,\n",
              "         6.,  6., 16.],\n",
              "       [10.,  6.,  4.,  0.,  6., 13., 37.,  6.,  5., 10., 16., 20., 15.,\n",
              "         7.,  4., 15.],\n",
              "       [11.,  9.,  7.,  5.,  0., 13., 37.,  7.,  6., 13., 19., 21., 15.,\n",
              "         7.,  1., 12.],\n",
              "       [ 6., 13., 11., 12., 12.,  0., 27.,  7., 15., 11., 16., 11.,  6.,\n",
              "         5., 11., 21.],\n",
              "       [29., 35., 33., 34., 35., 25.,  0., 29., 38., 33., 39., 15., 20.,\n",
              "        28., 33., 33.],\n",
              "       [ 6.,  7.,  5.,  6.,  7.,  8., 32.,  0.,  9., 11., 17., 16., 10.,\n",
              "         1.,  5., 15.],\n",
              "       [14.,  9.,  8.,  4.,  7., 17., 40., 10.,  0., 14., 19., 24., 19.,\n",
              "        10.,  5., 16.],\n",
              "       [ 5.,  6.,  8., 10., 14.,  9., 36., 12., 14.,  0.,  6., 20., 15.,\n",
              "         9., 12., 23.],\n",
              "       [11., 12., 15., 17., 21., 15., 42., 15., 20.,  7.,  0., 26., 20.,\n",
              "        15., 19., 29.],\n",
              "       [13., 20., 18., 19., 20., 10., 19., 14., 23., 18., 23.,  0.,  5.,\n",
              "        13., 18., 21.],\n",
              "       [ 8., 15., 13., 14., 15.,  5., 23.,  9., 18., 13., 19.,  7.,  0.,\n",
              "         8., 13., 20.],\n",
              "       [ 6.,  8.,  6.,  7.,  8.,  8., 32.,  1., 11.,  9., 15., 16., 10.,\n",
              "         0.,  6., 16.],\n",
              "       [10.,  8.,  7.,  4.,  2., 13., 36.,  6.,  5., 13., 18., 20., 15.,\n",
              "         6.,  0., 12.],\n",
              "       [20., 18., 17., 14., 10., 20., 41., 16., 16., 23., 28., 21., 19.,\n",
              "        16., 12.,  0.]])"
            ]
          },
          "execution_count": 98,
          "metadata": {},
          "output_type": "execute_result"
        }
      ],
      "source": [
        "distmat"
      ]
    },
    {
      "cell_type": "code",
      "execution_count": 99,
      "metadata": {
        "id": "KQEPJ9g2zqs8"
      },
      "outputs": [],
      "source": [
        "def lengthCal(antPath,distmat):         #Calcular distancia\n",
        "    length =[]\n",
        "    dis = 0\n",
        "    for i in range(len(antPath)):\n",
        "        for j in range(len(antPath[i]) - 1):\n",
        "            dis += distmat[antPath[i][j]][antPath[i][j + 1]]\n",
        "        dis += distmat[antPath[i][-1]][antPath[i][0]]\n",
        "        length.append(dis)\n",
        "        dis = 0\n",
        "    return length"
      ]
    },
    {
      "cell_type": "code",
      "execution_count": 100,
      "metadata": {
        "id": "a4pO0V__zx7o"
      },
      "outputs": [],
      "source": [
        "#matriz de distancias\n",
        "#distmat = np.array([[0,35,29,67,60,50,66,44,72,41,48,97],\n",
        "  #              [29,34,0,58,41,63,79,68,103,69,78,130],\n",
        "   #              [67,36,58,0,26,38,61,80,87,110,100,110],\n",
        "    #             [60,28,41,26,0,61,78,73,103,100,96,130],\n",
        "     #            [50,37,63,38,61,0,16,64,50,95,81,95],\n",
        "      #           [66,55,79,61,78,16,0,49,34,82,68,83],\n",
        "       #          [44,49,68,80,73,64,49,0,35,43,30,62],\n",
        "        #         [72,78,103,87,103,50,34,35,0,47,32,48],\n",
        "         #        [41,76,69,110,100,95,82,43,47,0,26,74],\n",
        "          #       [48,70,78,100,96,81,68,30,32,26,0,58],\n",
        "           #      [97,110,130,110,130,95,83,62,48,74,58,0]])"
      ]
    },
    {
      "cell_type": "code",
      "execution_count": 101,
      "metadata": {
        "id": "mWsbUhjIz1-G"
      },
      "outputs": [],
      "source": [
        "#Inicializacion\n",
        "antNum = 16                   # Número de hormiga\n",
        "alpha = 1                     #Factor de importancia de las feromonas\n",
        "beta = 3                      # Factor de importancia de la función heurística\n",
        "pheEvaRate = 0.3              # Tasa de evaporación de feromonas\n",
        "cityNum = distmat.shape[0]\n",
        "pheromone = np.ones((cityNum,cityNum))                   # Matriz de feromonas\n",
        "heuristic = 1 / (np.eye(cityNum) + distmat) - np.eye(cityNum)       # Matriz de información heurística, tome 1 / dismat\n",
        "iter,itermax = 1,200                       # Número de iteraciones"
      ]
    },
    {
      "cell_type": "code",
      "execution_count": 102,
      "metadata": {
        "id": "PUiCtblg0DjZ"
      },
      "outputs": [],
      "source": [
        "#Ciclo\n",
        "while iter < itermax:\n",
        "    antPath = np.zeros((antNum, cityNum)).astype(int) - 1   # Camino de la hormiga\n",
        "    firstCity = [i for i in range(16)]\n",
        "    rd.shuffle(firstCity)          # Asigna aleatoriamente una ciudad de inicio para cada hormiga\n",
        "    unvisted = []\n",
        "    p = []\n",
        "    pAccum = 0\n",
        "    for i in range(len(antPath)):\n",
        "        #print(i,iter)\n",
        "        antPath[i][0] = firstCity[i]\n",
        "    for i in range(len(antPath[0]) - 1):       # Actualiza gradualmente la próxima ciudad a la que irá cada hormiga\n",
        "        for j in range(len(antPath)):\n",
        "            for k in range(cityNum):\n",
        "                if k not in antPath[j]:\n",
        "                    unvisted.append(k)\n",
        "            for m in unvisted:\n",
        "                pAccum += pheromone[antPath[j][i]][m] ** alpha * heuristic[antPath[j][i]][m] ** beta\n",
        "            for n in unvisted:\n",
        "                p.append(pheromone[antPath[j][i]][n] ** alpha * heuristic[antPath[j][i]][n] ** beta / pAccum)\n",
        "            roulette = np.array(p).cumsum()               #Generar ruleta\n",
        "            r = rd.uniform(min(roulette), max(roulette))\n",
        "            for x in range(len(roulette)):\n",
        "                if roulette[x] >= r:                      #Utilice el método de la ruleta para elegir la próxima ciudad para ir\n",
        "                    antPath[j][i + 1] = unvisted[x]\n",
        "                    break\n",
        "            unvisted = []\n",
        "            p = []\n",
        "            pAccum = 0\n",
        "    pheromone = (1 - pheEvaRate) * pheromone            # Feromonas volátiles\n",
        "    length = lengthCal(antPath,distmat)\n",
        "    for i in range(len(antPath)):\n",
        "        for j in range(len(antPath[i]) - 1):\n",
        "            pheromone[antPath[i][j]][antPath[i][j + 1]] += 1 / length[i]     #Actualización de feromonas\n",
        "        pheromone[antPath[i][-1]][antPath[i][0]] += 1 / length[i]\n",
        "    iter += 1"
      ]
    },
    {
      "cell_type": "code",
      "execution_count": 103,
      "metadata": {
        "colab": {
          "base_uri": "https://localhost:8080/"
        },
        "id": "Ny4iZ6Sk0Nag",
        "outputId": "758f1af9-f09f-43ba-e547-88badf766cfc"
      },
      "outputs": [
        {
          "name": "stdout",
          "output_type": "stream",
          "text": [
            "La distancia más corta es:\n",
            "144.0\n",
            "El camino más corto es:\n",
            "[ 6 11 12  5 13  7  2  1  9 10  8  3 14  4 15  0]\n"
          ]
        }
      ],
      "source": [
        "print(\"La distancia más corta es:\")\n",
        "print(min(length))\n",
        "print(\"El camino más corto es:\")\n",
        "print(antPath[length.index(min(length))])\n"
      ]
    },
    {
      "cell_type": "code",
      "execution_count": 104,
      "metadata": {},
      "outputs": [
        {
          "name": "stdout",
          "output_type": "stream",
          "text": [
            "The time used to execute this is given below\n",
            "4.068599224090576\n"
          ]
        }
      ],
      "source": [
        "print(\"The time used to execute this is given below\")\n",
        "\n",
        "end = time.time()\n",
        "\n",
        "print(end - start)"
      ]
    }
  ],
  "metadata": {
    "colab": {
      "provenance": []
    },
    "kernelspec": {
      "display_name": "Python 3.10.5 64-bit",
      "language": "python",
      "name": "python3"
    },
    "language_info": {
      "codemirror_mode": {
        "name": "ipython",
        "version": 3
      },
      "file_extension": ".py",
      "mimetype": "text/x-python",
      "name": "python",
      "nbconvert_exporter": "python",
      "pygments_lexer": "ipython3",
      "version": "3.10.5"
    },
    "vscode": {
      "interpreter": {
        "hash": "03b377da14f3aa062dfae6f1f9166787a380b8610a7efcefe06d27a39d527dcb"
      }
    }
  },
  "nbformat": 4,
  "nbformat_minor": 0
}
